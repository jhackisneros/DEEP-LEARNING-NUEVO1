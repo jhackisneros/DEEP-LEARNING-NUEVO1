{
  "nbformat": 4,
  "nbformat_minor": 0,
  "metadata": {
    "colab": {
      "provenance": [],
      "gpuType": "T4",
      "authorship_tag": "ABX9TyNjiq0QF+ZVoHEZSgxfOwkO",
      "include_colab_link": true
    },
    "kernelspec": {
      "name": "python3",
      "display_name": "Python 3"
    },
    "language_info": {
      "name": "python"
    },
    "accelerator": "GPU"
  },
  "cells": [
    {
      "cell_type": "markdown",
      "metadata": {
        "id": "view-in-github",
        "colab_type": "text"
      },
      "source": [
        "<a href=\"https://colab.research.google.com/github/jhackisneros/DEEP-LEARNING-NUEVO1/blob/main/CNN_MNIST.ipynb\" target=\"_parent\"><img src=\"https://colab.research.google.com/assets/colab-badge.svg\" alt=\"Open In Colab\"/></a>"
      ]
    },
    {
      "cell_type": "code",
      "execution_count": 1,
      "metadata": {
        "id": "Y7IeiO95zEkZ"
      },
      "outputs": [],
      "source": [
        "import tensorflow as tf\n",
        "from tensorflow import keras\n",
        "from tensorflow.keras import layers, models"
      ]
    },
    {
      "cell_type": "code",
      "source": [
        "(x_train, y_train), (x_test, y_test) = keras.datasets.mnist.load_data()"
      ],
      "metadata": {
        "colab": {
          "base_uri": "https://localhost:8080/"
        },
        "id": "bbaRAeiozYL8",
        "outputId": "1d7c632a-4947-4d43-a2c0-dd1fdc0f1fd3"
      },
      "execution_count": 2,
      "outputs": [
        {
          "output_type": "stream",
          "name": "stdout",
          "text": [
            "Downloading data from https://storage.googleapis.com/tensorflow/tf-keras-datasets/mnist.npz\n",
            "\u001b[1m11490434/11490434\u001b[0m \u001b[32m━━━━━━━━━━━━━━━━━━━━\u001b[0m\u001b[37m\u001b[0m \u001b[1m0s\u001b[0m 0us/step\n"
          ]
        }
      ]
    },
    {
      "cell_type": "code",
      "source": [
        "x_train = x_train.astype('float32') / 255.0\n",
        "x_test = x_test.astype('float32') / 255.0\n",
        "x_train = x_train[..., tf.newaxis]  # (60000, 28, 28, 1)\n",
        "x_test = x_test[..., tf.newaxis]"
      ],
      "metadata": {
        "id": "eI8yffW-zbsc"
      },
      "execution_count": 3,
      "outputs": []
    },
    {
      "cell_type": "code",
      "source": [
        "num_classes = 10\n",
        "y_train = keras.utils.to_categorical(y_train, num_classes)\n",
        "y_test = keras.utils.to_categorical(y_test, num_classes)"
      ],
      "metadata": {
        "id": "MbH5533ezeKh"
      },
      "execution_count": 4,
      "outputs": []
    },
    {
      "cell_type": "code",
      "source": [
        "model = models.Sequential([\n",
        "    layers.Conv2D(32, kernel_size=(3,3), activation='relu', input_shape=(28,28,1)),\n",
        "    layers.Conv2D(64, kernel_size=(3,3), activation='relu'),\n",
        "    layers.MaxPooling2D(pool_size=(2,2)),\n",
        "    layers.Dropout(0.25),\n",
        "\n",
        "    layers.Flatten(),\n",
        "    layers.Dense(128, activation='relu'),\n",
        "    layers.Dropout(0.5),\n",
        "    layers.Dense(num_classes, activation='softmax')\n",
        "])"
      ],
      "metadata": {
        "colab": {
          "base_uri": "https://localhost:8080/"
        },
        "id": "WLTMY3rMzhPD",
        "outputId": "66ffeea3-52c7-4000-daf0-4f1b303a0a0b"
      },
      "execution_count": 5,
      "outputs": [
        {
          "output_type": "stream",
          "name": "stderr",
          "text": [
            "/usr/local/lib/python3.12/dist-packages/keras/src/layers/convolutional/base_conv.py:113: UserWarning: Do not pass an `input_shape`/`input_dim` argument to a layer. When using Sequential models, prefer using an `Input(shape)` object as the first layer in the model instead.\n",
            "  super().__init__(activity_regularizer=activity_regularizer, **kwargs)\n"
          ]
        }
      ]
    },
    {
      "cell_type": "code",
      "source": [
        "model.compile(\n",
        "    optimizer='adam',\n",
        "    loss='categorical_crossentropy',\n",
        "    metrics=['accuracy']\n",
        ")\n"
      ],
      "metadata": {
        "id": "V9Eep_QgzlEA"
      },
      "execution_count": 6,
      "outputs": []
    },
    {
      "cell_type": "code",
      "source": [
        "history = model.fit(\n",
        "    x_train, y_train,\n",
        "    epochs=10,\n",
        "    batch_size=128,\n",
        "    validation_split=0.1,\n",
        "    verbose=2\n",
        ")"
      ],
      "metadata": {
        "colab": {
          "base_uri": "https://localhost:8080/"
        },
        "id": "voKGMs09zqak",
        "outputId": "f068f6c5-2cb0-489a-b04b-0c86de2e87dc"
      },
      "execution_count": 7,
      "outputs": [
        {
          "output_type": "stream",
          "name": "stdout",
          "text": [
            "Epoch 1/10\n",
            "422/422 - 13s - 30ms/step - accuracy: 0.9257 - loss: 0.2440 - val_accuracy: 0.9843 - val_loss: 0.0503\n",
            "Epoch 2/10\n",
            "422/422 - 3s - 7ms/step - accuracy: 0.9743 - loss: 0.0887 - val_accuracy: 0.9873 - val_loss: 0.0461\n",
            "Epoch 3/10\n",
            "422/422 - 3s - 6ms/step - accuracy: 0.9806 - loss: 0.0656 - val_accuracy: 0.9907 - val_loss: 0.0357\n",
            "Epoch 4/10\n",
            "422/422 - 3s - 6ms/step - accuracy: 0.9839 - loss: 0.0537 - val_accuracy: 0.9902 - val_loss: 0.0359\n",
            "Epoch 5/10\n",
            "422/422 - 3s - 6ms/step - accuracy: 0.9864 - loss: 0.0442 - val_accuracy: 0.9905 - val_loss: 0.0358\n",
            "Epoch 6/10\n",
            "422/422 - 3s - 6ms/step - accuracy: 0.9877 - loss: 0.0390 - val_accuracy: 0.9910 - val_loss: 0.0349\n",
            "Epoch 7/10\n",
            "422/422 - 3s - 6ms/step - accuracy: 0.9895 - loss: 0.0330 - val_accuracy: 0.9895 - val_loss: 0.0369\n",
            "Epoch 8/10\n",
            "422/422 - 3s - 6ms/step - accuracy: 0.9897 - loss: 0.0318 - val_accuracy: 0.9907 - val_loss: 0.0360\n",
            "Epoch 9/10\n",
            "422/422 - 3s - 6ms/step - accuracy: 0.9907 - loss: 0.0276 - val_accuracy: 0.9915 - val_loss: 0.0347\n",
            "Epoch 10/10\n",
            "422/422 - 3s - 6ms/step - accuracy: 0.9911 - loss: 0.0267 - val_accuracy: 0.9915 - val_loss: 0.0361\n"
          ]
        }
      ]
    },
    {
      "cell_type": "code",
      "source": [
        "test_loss, test_acc = model.evaluate(x_test, y_test, verbose=0)\n",
        "print(f\"✅ Precisión en test: {test_acc*100:.2f}%\")\n"
      ],
      "metadata": {
        "colab": {
          "base_uri": "https://localhost:8080/"
        },
        "id": "xiKdI9Ddz4Id",
        "outputId": "030e1ad8-bf0e-40cd-af8f-e47233c4093b"
      },
      "execution_count": 8,
      "outputs": [
        {
          "output_type": "stream",
          "name": "stdout",
          "text": [
            "✅ Precisión en test: 99.16%\n"
          ]
        }
      ]
    },
    {
      "cell_type": "code",
      "source": [
        "model.save(\"CNN_MNIST.keras\")"
      ],
      "metadata": {
        "id": "S3eW6o9nz7NI"
      },
      "execution_count": 9,
      "outputs": []
    },
    {
      "cell_type": "code",
      "source": [
        "from google.colab import files\n",
        "files.download(\"CNN_MNIST.keras\")"
      ],
      "metadata": {
        "colab": {
          "base_uri": "https://localhost:8080/",
          "height": 17
        },
        "id": "qcXz2u6f0Zwf",
        "outputId": "161c48c2-3487-4aa0-bcbe-75118754fc6a"
      },
      "execution_count": 10,
      "outputs": [
        {
          "output_type": "display_data",
          "data": {
            "text/plain": [
              "<IPython.core.display.Javascript object>"
            ],
            "application/javascript": [
              "\n",
              "    async function download(id, filename, size) {\n",
              "      if (!google.colab.kernel.accessAllowed) {\n",
              "        return;\n",
              "      }\n",
              "      const div = document.createElement('div');\n",
              "      const label = document.createElement('label');\n",
              "      label.textContent = `Downloading \"${filename}\": `;\n",
              "      div.appendChild(label);\n",
              "      const progress = document.createElement('progress');\n",
              "      progress.max = size;\n",
              "      div.appendChild(progress);\n",
              "      document.body.appendChild(div);\n",
              "\n",
              "      const buffers = [];\n",
              "      let downloaded = 0;\n",
              "\n",
              "      const channel = await google.colab.kernel.comms.open(id);\n",
              "      // Send a message to notify the kernel that we're ready.\n",
              "      channel.send({})\n",
              "\n",
              "      for await (const message of channel.messages) {\n",
              "        // Send a message to notify the kernel that we're ready.\n",
              "        channel.send({})\n",
              "        if (message.buffers) {\n",
              "          for (const buffer of message.buffers) {\n",
              "            buffers.push(buffer);\n",
              "            downloaded += buffer.byteLength;\n",
              "            progress.value = downloaded;\n",
              "          }\n",
              "        }\n",
              "      }\n",
              "      const blob = new Blob(buffers, {type: 'application/binary'});\n",
              "      const a = document.createElement('a');\n",
              "      a.href = window.URL.createObjectURL(blob);\n",
              "      a.download = filename;\n",
              "      div.appendChild(a);\n",
              "      a.click();\n",
              "      div.remove();\n",
              "    }\n",
              "  "
            ]
          },
          "metadata": {}
        },
        {
          "output_type": "display_data",
          "data": {
            "text/plain": [
              "<IPython.core.display.Javascript object>"
            ],
            "application/javascript": [
              "download(\"download_f4812765-6871-4732-8ea3-30b805c26a15\", \"CNN_MNIST.keras\", 14438070)"
            ]
          },
          "metadata": {}
        }
      ]
    },
    {
      "cell_type": "code",
      "source": [
        "import os\n",
        "\n",
        "model_path = \"CNN_MNIST.keras\"\n",
        "print(\"Tamaño del modelo:\", os.path.getsize(model_path)/1024/1024, \"MB\")\n"
      ],
      "metadata": {
        "colab": {
          "base_uri": "https://localhost:8080/"
        },
        "id": "bgnTZ37I1aQ9",
        "outputId": "f5caf249-3c5e-4937-e265-355ee09bc3df"
      },
      "execution_count": 11,
      "outputs": [
        {
          "output_type": "stream",
          "name": "stdout",
          "text": [
            "Tamaño del modelo: 13.769216537475586 MB\n"
          ]
        }
      ]
    }
  ]
}